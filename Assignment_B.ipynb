{
 "cells": [
  {
   "cell_type": "code",
   "execution_count": null,
   "id": "3d80af07",
   "metadata": {},
   "outputs": [],
   "source": [
    "https://github.com/frodokramer00/compsci2"
   ]
  },
  {
   "cell_type": "markdown",
   "id": "53e2be69",
   "metadata": {},
   "source": [
    "Analyse the connection between genres and actors"
   ]
  }
 ],
 "metadata": {
  "language_info": {
   "name": "python"
  }
 },
 "nbformat": 4,
 "nbformat_minor": 5
}
